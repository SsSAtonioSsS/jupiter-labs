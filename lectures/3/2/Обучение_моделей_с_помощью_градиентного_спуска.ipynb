{
  "cells": [
    {
      "cell_type": "markdown",
      "metadata": {
        "id": "v-NXKgCJvkYV"
      },
      "source": [
        "# Обучение моделей с помощью градиентного спуска\n",
        "\n",
        "Мы помним, что в случае многомерной линейной регрессии (когда количество фичей $m$) аналитическое решение имеет вид\n",
        "$$\n",
        "\\overline{w} = \\left(X^TX\\right)^{-1}X^T\\overline{y}\n",
        "$$\n",
        "\n",
        "Где $X$ - т.н. матрица объекты-признаки размерности *количество объектов* x *количество признаков*.\n",
        "\n",
        "У аналитического решения есть ряд недостатков\n",
        "* Вычислительная сложность из-за матричного перемножения $O(n^3)$, где $n$ - размерность матрицы. При увеличении размерности матрицы в 10 раз сложность вычислений увеличивается в $10^3=1000$ раз\n",
        "* Неустойчивость вычислений - пытаемся найти обратную матрицу, которая может не существовать, в этом случае в алгоритме нахождения обратной матрицы возникает деление на ноль"
      ]
    },
    {
      "cell_type": "markdown",
      "metadata": {
        "id": "VjJxr0QCvkYW"
      },
      "source": [
        "С неустойчивостью вычислений, например, связано предупреждение **LinAlgWarning:** которое мы видели в первом уроке. Пример такой матрицы:\n",
        "$$\n",
        "X^TX =\n",
        "\\left[\n",
        "\\begin{array}{cc}\n",
        "2 & 1 \\\\\n",
        "4 & 2\n",
        "\\end{array}\n",
        "\\right]\n",
        "$$\n",
        "\n",
        "Допустим, хотим вычислить коэффициенты аналитически. Если попытаемся найти обратную матрицу $(X^TX)^{-1}$, мы получим сообщение об ошибке:"
      ]
    },
    {
      "cell_type": "code",
      "execution_count": 1,
      "metadata": {
        "id": "McVDD1yWvkYW",
        "outputId": "595f6167-00d2-45d2-f0bb-667598924a2d"
      },
      "outputs": [
        {
          "ename": "LinAlgError",
          "evalue": "Singular matrix",
          "output_type": "error",
          "traceback": [
            "\u001b[0;31m---------------------------------------------------------------------------\u001b[0m",
            "\u001b[0;31mLinAlgError\u001b[0m                               Traceback (most recent call last)",
            "Cell \u001b[0;32mIn[1], line 5\u001b[0m\n\u001b[1;32m      3\u001b[0m X \u001b[38;5;241m=\u001b[39m np\u001b[38;5;241m.\u001b[39marray([[\u001b[38;5;241m2\u001b[39m,\u001b[38;5;241m1\u001b[39m],[\u001b[38;5;241m4\u001b[39m,\u001b[38;5;241m2\u001b[39m]])\n\u001b[1;32m      4\u001b[0m \u001b[38;5;66;03m# пытаемся найти обратную\u001b[39;00m\n\u001b[0;32m----> 5\u001b[0m np\u001b[38;5;241m.\u001b[39mlinalg\u001b[38;5;241m.\u001b[39minv(X)\n",
            "File \u001b[0;32m~/Рабочий стол/ml/.conda/lib/python3.11/site-packages/numpy/linalg/linalg.py:561\u001b[0m, in \u001b[0;36minv\u001b[0;34m(a)\u001b[0m\n\u001b[1;32m    559\u001b[0m signature \u001b[38;5;241m=\u001b[39m \u001b[38;5;124m'\u001b[39m\u001b[38;5;124mD->D\u001b[39m\u001b[38;5;124m'\u001b[39m \u001b[38;5;28;01mif\u001b[39;00m isComplexType(t) \u001b[38;5;28;01melse\u001b[39;00m \u001b[38;5;124m'\u001b[39m\u001b[38;5;124md->d\u001b[39m\u001b[38;5;124m'\u001b[39m\n\u001b[1;32m    560\u001b[0m extobj \u001b[38;5;241m=\u001b[39m get_linalg_error_extobj(_raise_linalgerror_singular)\n\u001b[0;32m--> 561\u001b[0m ainv \u001b[38;5;241m=\u001b[39m _umath_linalg\u001b[38;5;241m.\u001b[39minv(a, signature\u001b[38;5;241m=\u001b[39msignature, extobj\u001b[38;5;241m=\u001b[39mextobj)\n\u001b[1;32m    562\u001b[0m \u001b[38;5;28;01mreturn\u001b[39;00m wrap(ainv\u001b[38;5;241m.\u001b[39mastype(result_t, copy\u001b[38;5;241m=\u001b[39m\u001b[38;5;28;01mFalse\u001b[39;00m))\n",
            "File \u001b[0;32m~/Рабочий стол/ml/.conda/lib/python3.11/site-packages/numpy/linalg/linalg.py:112\u001b[0m, in \u001b[0;36m_raise_linalgerror_singular\u001b[0;34m(err, flag)\u001b[0m\n\u001b[1;32m    111\u001b[0m \u001b[38;5;28;01mdef\u001b[39;00m \u001b[38;5;21m_raise_linalgerror_singular\u001b[39m(err, flag):\n\u001b[0;32m--> 112\u001b[0m     \u001b[38;5;28;01mraise\u001b[39;00m LinAlgError(\u001b[38;5;124m\"\u001b[39m\u001b[38;5;124mSingular matrix\u001b[39m\u001b[38;5;124m\"\u001b[39m)\n",
            "\u001b[0;31mLinAlgError\u001b[0m: Singular matrix"
          ]
        }
      ],
      "source": [
        "import numpy as np\n",
        "# матрица из примера\n",
        "X = np.array([[2,1],[4,2]])\n",
        "# пытаемся найти обратную\n",
        "np.linalg.inv(X)"
      ]
    },
    {
      "cell_type": "markdown",
      "metadata": {
        "id": "PAEufTEvvkYa"
      },
      "source": [
        "Это очень печально - значит, мы не всегда можем применять аналитическую формулу $\\overline{w} = \\left(X^TX\\right)^{-1}X^T\\overline{y}$ для нахождения коэффициентов $\\overline{w}$ Как же быть, если задачу решать все равно надо?\n",
        "\n",
        "Решение этих проблем нашли математики - давайте вычислять коэффициенты линейной регрессии не аналитически, а с помощью приближённых численных методов. Тогда не надо будет перемножать матрицы или находить обратные матрицы. Самый простой и эффективный из этих методов называется методом *градиентного спуска*. Суть метода состоит в обновлении параметров модели $w$ по маленьким шажкам (вместо того, чтобы находить их сразу) - это и есть градиентный спуск.\n",
        "\n",
        "Каждый такой шажок назвается \"итерация\"."
      ]
    },
    {
      "cell_type": "markdown",
      "metadata": {
        "id": "pwUflWYSvkYb"
      },
      "source": [
        "Мы знаем, что коэффициенты обучаются при помощи минимизации функции ошибок:\n",
        "\n",
        "$$\n",
        "L(y,w) = \\sum_{i=1}^{N}\\left(y_i - \\hat{y_i}\\right)^2\n",
        "$$\n",
        "\n",
        "Эта функция квадратичная - следовательно, имеет форму параболы. Минимум параболы соответствует минимуму ошибки - давайте как-то понемногу \"подкручивать\" параметры, чтобы по шажкам спуститься в точку, где ошибка будет минимальной - в этой точке и находятся параметры $w$, которые мы ищем. Правила обновления весов должны быть очень простыми и не содержать матричных перемножений\n",
        "\n",
        "![grad_descent_single_measure](https://248006.selcdn.ru/public/Data-science-3/img/grad_descent_single_measure.png)"
      ]
    },
    {
      "cell_type": "markdown",
      "metadata": {
        "id": "PzLwNIs1vkYb"
      },
      "source": [
        "В трёхмерном случае картинка более красивая - мы движемся как бы ландшафту и хотим найти самую нижнюю точку на этом ландшафте:\n",
        "\n",
        "![grad_descent_single_measure](https://248006.selcdn.ru/public/Data-science-3/img/grad_descent_multi_measure.png)"
      ]
    },
    {
      "cell_type": "markdown",
      "metadata": {
        "id": "VhC7RxlZvkYc"
      },
      "source": [
        "В библиотеке sklearn уже есть класс, в котором реализована логика такого путешествия - это класс `sklearn.linear_model.SGDRegressor`. Давайте посмотрим, как он работает на примере нашей выборки из прошлого урока - начнём с загрузки исходных данных"
      ]
    },
    {
      "cell_type": "code",
      "execution_count": 5,
      "metadata": {
        "id": "hPr44wuWvkYc",
        "outputId": "ffd1c2a9-1d45-4f23-f131-abd919e5fd4d"
      },
      "outputs": [
        {
          "data": {
            "text/html": [
              "<div>\n",
              "<style scoped>\n",
              "    .dataframe tbody tr th:only-of-type {\n",
              "        vertical-align: middle;\n",
              "    }\n",
              "\n",
              "    .dataframe tbody tr th {\n",
              "        vertical-align: top;\n",
              "    }\n",
              "\n",
              "    .dataframe thead th {\n",
              "        text-align: right;\n",
              "    }\n",
              "</style>\n",
              "<table border=\"1\" class=\"dataframe\">\n",
              "  <thead>\n",
              "    <tr style=\"text-align: right;\">\n",
              "      <th></th>\n",
              "      <th>x_train</th>\n",
              "      <th>y_train</th>\n",
              "    </tr>\n",
              "  </thead>\n",
              "  <tbody>\n",
              "    <tr>\n",
              "      <th>5</th>\n",
              "      <td>1.182421</td>\n",
              "      <td>1.860341</td>\n",
              "    </tr>\n",
              "    <tr>\n",
              "      <th>6</th>\n",
              "      <td>1.251605</td>\n",
              "      <td>1.878928</td>\n",
              "    </tr>\n",
              "    <tr>\n",
              "      <th>7</th>\n",
              "      <td>1.270474</td>\n",
              "      <td>2.430015</td>\n",
              "    </tr>\n",
              "    <tr>\n",
              "      <th>8</th>\n",
              "      <td>1.402553</td>\n",
              "      <td>2.327856</td>\n",
              "    </tr>\n",
              "    <tr>\n",
              "      <th>9</th>\n",
              "      <td>1.427711</td>\n",
              "      <td>2.203649</td>\n",
              "    </tr>\n",
              "  </tbody>\n",
              "</table>\n",
              "</div>"
            ],
            "text/plain": [
              "    x_train   y_train\n",
              "5  1.182421  1.860341\n",
              "6  1.251605  1.878928\n",
              "7  1.270474  2.430015\n",
              "8  1.402553  2.327856\n",
              "9  1.427711  2.203649"
            ]
          },
          "execution_count": 5,
          "metadata": {},
          "output_type": "execute_result"
        }
      ],
      "source": [
        "import numpy as np\n",
        "import pandas as pd\n",
        "import matplotlib.pyplot as plt\n",
        "# для регрессии\n",
        "from sklearn.model_selection import train_test_split\n",
        "from sklearn.linear_model import SGDRegressor\n",
        "from sklearn.metrics import mean_squared_error\n",
        "from scipy.spatial import distance\n",
        "%matplotlib inline\n",
        "\n",
        "data = pd.read_csv('../../../datasets/3.10_non_linear.csv', sep=',')\n",
        "data = data[(data.x_train > 1) & (data.x_train < 5)].copy()\n",
        "\n",
        "X = data['x_train'].values.reshape(-1, 1) # превращаем X из простого массива в вектор-столбец\n",
        "y = data['y_train'].values\n",
        "\n",
        "# разбиваем на трейн и валидацию\n",
        "X_train, X_valid, y_train, y_valid = train_test_split(X, y, test_size=0.2, random_state=10)\n",
        "\n",
        "data.head()"
      ]
    },
    {
      "cell_type": "markdown",
      "metadata": {
        "id": "YrdX2IbEvkYe"
      },
      "source": [
        "Запустим шажки градиентного спуска (те самые итерации). Для градиентного спуска мы используем готовый класс SGDRegressor: https://scikit-learn.org/stable/modules/generated/sklearn.linear_model.SGDRegressor.html . Класс принимает следующие параметры\n",
        "\n",
        "\n",
        "* learning_rate='constant' используем самую простую модификацию спуска из нескольких возможных (см. документацию)\n",
        "* eta0 - шаг градиентного спуска, в формуле мы его обозначали буквой $\\alpha$\n",
        "* fit_intercept - чтобы обучить коэффициент при \"свободном члене\" линейной регрессии (см. \"Линейная регрессия. Часть 1\")\n",
        "* random_state - этот параметр встречали ранее в этом модуле, он нужен для воспроизводимости вычислений\n",
        "\n",
        "Функция `partial_fit()`, которую мы вызываем в коде, делает одну итерацию градиентного спуска.\n",
        "\n",
        "По оси $oX$ отложим количество итераций, а по оси $oY$ - значение метрики качества *MSE*, которое получили на  валидации"
      ]
    },
    {
      "cell_type": "code",
      "execution_count": 10,
      "metadata": {
        "id": "PNsIQyJBvkYf",
        "outputId": "424dc5a9-02f7-4bb8-c3a2-6eef417d7862"
      },
      "outputs": [
        {
          "name": "stdout",
          "output_type": "stream",
          "text": [
            "Итарации остановлены на шаге 208\n"
          ]
        },
        {
          "data": {
            "text/plain": [
              "[<matplotlib.lines.Line2D at 0x7f6dbccac350>]"
            ]
          },
          "execution_count": 10,
          "metadata": {},
          "output_type": "execute_result"
        },
        {
          "data": {
            "image/png": "[encoded data removed]",
            "text/plain": [
              "<Figure size 640x480 with 1 Axes>"
            ]
          },
          "metadata": {},
          "output_type": "display_data"
        }
      ],
      "source": [
        "sgd_regressor = SGDRegressor(learning_rate='constant', eta0=0.009, fit_intercept=True, random_state=42)\n",
        "w_current, epsilon = np.random.random(2), 0.0001\n",
        "weight_evolution, mse_evolution = [], [] # изменения весов и ошибка на валидации\n",
        "for step in list(range(800)):\n",
        "    sgd_regressor = sgd_regressor.partial_fit(X_train, y_train)\n",
        "    weight_evolution.append(distance.euclidean(w_current, sgd_regressor.coef_))\n",
        "    if weight_evolution[-1]<epsilon:\n",
        "        print(\"Итарации остановлены на шаге %d\" % step); break\n",
        "    mse_evolution.append(mean_squared_error(y_valid, sgd_regressor.predict(X_valid)))\n",
        "    w_current = sgd_regressor.coef_.copy()\n",
        "plt.plot(range(step), mse_evolution)"
      ]
    },
    {
      "cell_type": "markdown",
      "metadata": {
        "id": "Nvnk5rjfvkYh"
      },
      "source": [
        "**Практическое задание** очевидно, что чем больше шаг градиентного спуска (параметр *eta0* класса *SGDRegressor*), тем быстрее мы придём к оптимальным значениям. Используя код выше, поиграйтесь с параметром *eta0* и добейтесь , чтобы градиентный спуск закончился быстрее, чем за 200 шагов.\n",
        "\n",
        "Сколько шагов у вас получилось? Какое качество *MSE* у Вашего решения?"
      ]
    },
    {
      "cell_type": "code",
      "execution_count": 8,
      "metadata": {
        "id": "akuDd04HvkYh"
      },
      "outputs": [],
      "source": [
        "# -- ВАШ КОД ТУТ\n",
        "\n"
      ]
    },
    {
      "cell_type": "markdown",
      "metadata": {
        "id": "ljDdmg4EvkYj"
      },
      "source": [
        "Визуализируем решение на графике"
      ]
    },
    {
      "cell_type": "code",
      "execution_count": 11,
      "metadata": {
        "id": "yUsq1gkSvkYk",
        "outputId": "842ba4f9-4bc3-4bc0-9b68-73d45e5095c0"
      },
      "outputs": [
        {
          "data": {
            "image/png": "[encoded data removed]",
            "text/plain": [
              "<Figure size 640x480 with 1 Axes>"
            ]
          },
          "metadata": {},
          "output_type": "display_data"
        }
      ],
      "source": [
        "x_linspace = np.linspace(data['x_train'].min(), data['x_train'].max(), num=100)\n",
        "\n",
        "y_linspace= sgd_regressor.predict(x_linspace.reshape(-1,1))\n",
        "\n",
        "plt.plot(x_linspace, y_linspace)\n",
        "plt.scatter(data.x_train, data.y_train, 40, 'g', 'o', alpha=0.8, label='data')\n",
        "\n",
        "plt.show()"
      ]
    },
    {
      "cell_type": "markdown",
      "metadata": {
        "id": "14iSy19WvkYm"
      },
      "source": [
        "Готово! Мы получили решение задачи линейной регрессии, обучив параметры линейной регресии небольшими \"шажками\". Мы не использовали сложных матричных вычислений - тем не менее получили линию регрессии, которая лежит в середине облака точек. Когда стоит использовать градиентный спуск в реальных задачах?\n",
        "\n",
        "* когда данных очень много - в этом случае компьютер может не справится с перемножением матриц\n",
        "* когда нужно контролировать точность обучения - остановить итерации можно в любой момент (не дожидаясь, пока дойдем до \"идеальных\" значений)\n",
        "\n",
        "Когда не стоит применять градиентный спуск? Когда данных мало - в этом случае лучше воспользоваться классами *Ridge* и *Lasso*."
      ]
    }
  ],
  "metadata": {
    "celltoolbar": "Slideshow",
    "colab": {
      "provenance": []
    },
    "kernelspec": {
      "display_name": "Python 3",
      "language": "python",
      "name": "python3"
    },
    "language_info": {
      "codemirror_mode": {
        "name": "ipython",
        "version": 3
      },
      "file_extension": ".py",
      "mimetype": "text/x-python",
      "name": "python",
      "nbconvert_exporter": "python",
      "pygments_lexer": "ipython3",
      "version": "3.11.7"
    }
  },
  "nbformat": 4,
  "nbformat_minor": 0
}
